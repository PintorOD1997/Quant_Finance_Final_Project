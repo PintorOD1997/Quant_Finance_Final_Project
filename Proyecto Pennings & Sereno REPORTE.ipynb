{
 "cells": [
  {
   "cell_type": "markdown",
   "metadata": {},
   "source": [
    "<center><font color=#555555><font size=6> Quiantitative Finance Otoño 2021 </font> <br> <br>\n",
    "    \n",
    "<center><font color=#555555><font size=5> Financial Engineering </font> <br> <br> <br> <br>\n",
    "\n",
    "<center><font color=#555555><font size=6> Diego Pintor, Ivette Landaverde, Aranzazú Rendón, Guillermo Gónzalez, Erick Mendoza </font> <br> <br>\n",
    "   \n",
    "<center> <font color= #555555> <font size = 4> Nov 2021 </a> "
   ]
  },
  {
   "cell_type": "markdown",
   "metadata": {},
   "source": [
    "<hr style=\"border:0.02in solid gray\"> </hr>"
   ]
  },
  {
   "cell_type": "markdown",
   "metadata": {},
   "source": [
    "<center> <font color= #555555> <font size = 6> PENNINGS AND SERENO </font> <br> <br> <font color= #555555> <font size = 5> Reporte  </font>"
   ]
  },
  {
   "cell_type": "markdown",
   "metadata": {},
   "source": [
    "<hr style=\"border:0.02in solid gray\"> </hr>"
   ]
  },
  {
   "cell_type": "markdown",
   "metadata": {},
   "source": [
    "<font color= #555555> <font size = 4> Abstract </font>"
   ]
  },
  {
   "cell_type": "markdown",
   "metadata": {},
   "source": [
    "<font color= #6B6B6B> <font size = 3>  Este estudio establece un enfoque de opciones compuestas para evaluar los proyectos de inversión en I+D farmacéutica en presencia de incertidumbres técnicas y económicas:\n",
    "- La incertidumbre técnica se modela como un salto de Poisson que permite el fracaso y, por tanto, el abandono del desarrollo del fármaco. \n",
    "- La incertidumbre económica se modela como un proceso de difusión estándar que incorpora choques al alza y a la baja. \n",
    "    \n",
    "La aplicación práctica de este método se enfatiza a través de un análisis de casos. Demostramos que ambas incertidumbres tienen un impacto positivo en el valor de la opción de I+D. Además, a partir del análisis de sensibilidad, descubrimos que la sensibilidad de la opción con respecto a la incertidumbre económica y al coste de introducción en el mercado disminuye cuando\n",
    "la incertidumbre técnica aumenta. </font>"
   ]
  },
  {
   "cell_type": "markdown",
   "metadata": {},
   "source": [
    "<hr style=\"border:0.02in solid gray\"> </hr>"
   ]
  },
  {
   "cell_type": "markdown",
   "metadata": {},
   "source": [
    "# <font color= #6B6B6B>  1. Introduction </font>"
   ]
  },
  {
   "cell_type": "markdown",
   "metadata": {},
   "source": [
    "La valoración de opciones reales (ROV) es una buena alternativa para el campo farmacéutico, ya que este enfoque puede aportar una mayor evaluación flexible de las oportunidades futuras inherentes al proceso de innovación. \n",
    "\n",
    "La farmacéutica interpreta la inversión en el proyecto como una opción para expandir más proyectos. En este caso particular, el éxito en el primer proyecto, daría pie a un segundo proyecto; consecuentemente de la misma manera, el éxito en el segundo proyecto volvería conveniente el entrar a un tercer proyecto, y así sucesivamente hasta plantearse la oportunidad de entrar a un cuarto proyecto. Todo esto le da al proyecto la forma de una call option compuesta.\n",
    "\n",
    "Las opciones compuestas son combinaciones de opciones, donde el ejercicio de una opción abre otra opción, en la teoría de las opciones reales, las aplicaciones de las opciones compuestas se encuentran en varios proyectos industriales, pero son más relevantes para los productos farmacéuticos donde el proyecto ofrece la opción real de realizar más investigaciones o de iniciar la implementación de los resultados. \n",
    "\n",
    "Para este proyecto partimos de un modelo bastante simple, el call de una call option con dos strike prices y dos fechas de maduración."
   ]
  },
  {
   "cell_type": "markdown",
   "metadata": {},
   "source": [
    "## Caso de estudio 1\n",
    "\n",
    "Se utiliza la teoría de opciones reales para evaluar cada una de las fases (3) por la que pasará un nuevo fármaco. \n",
    "\n",
    "Se utilizarán las opciones reales al tratar cada fase como un nuevo proyecto en el que se evalúa si vale la pena invertir dependiendo de los resultados del proyecto (o etapa) anterior, y en donde se toma en cuenta el riesgo de fracaso del fármaco en cualquiera de las etapas al combinar una función Poisson (incertidumbre técnica) y un proceso de difusión (incertidumbre económica). \n",
    "\n",
    "El valor del proyecto es incierto durante las diferentes etapas, pero asumimos que el valor sigue un proceso de salto normal de difusión, teniendo dos caminos de incertidumbre:\n",
    "\n",
    "- el riesgo de difusión, que incluye las fluctuaciones aleatorias tanto positivas como negativas\n",
    "- el arribo de sucesos \"mayores\" que abruptamente pueden afectar aumentando o disminuyendo el valor del proyecto\n",
    "\n",
    "De acuerdo a la fórmula del precio, es la misma que la fórmula de opción compuesta de Geske, dando que el fallo técnico no ocurre durante los intérvalos.\n",
    "\n",
    "Para probar nuestro modelo en un ajuste de negocio práctico, lo aplicaremos en una compañía de Europa enfocada al área de oncología, la cual quiere sacar una nueva línea de tratamientos contra el cáncer y donde tiene dos decisiones de inversión:\n",
    "\n",
    "- Entrar a la fase 3\n",
    "- Lanzar el medicamento \n",
    "\n",
    "Para esto ambos casos se analizarán con la fórmula de opciones compuestas."
   ]
  },
  {
   "cell_type": "markdown",
   "metadata": {},
   "source": [
    "## Caso de estudio 2\n",
    "\n",
    "Fase 1: pruebas en 20-100 voluntarios para determinar la seguridad y la dosis\n",
    "\n",
    "Fase 2: pruebas en 100-300\n",
    "\n",
    "Fase 3: pruebas en 1000-5000\n",
    "\n",
    "Para evaluar el desarrollo del fármaco, se valúa una opción compuesta que, en el momento T2, le da a la empresa el derecho a pagar I2 para comprar la opción subyacente, que tiene un precio de ejercicio I1 y una fecha de ejercicio T1, estos datos consideran como un proyecto el que el fármaco haya aprobado todas las fases y como otro, el lanzarlo al mercado. \n",
    "\n",
    "Datos: \n",
    " \n",
    "  \n",
    "V0 = €67 Million \n",
    "\n",
    " \n",
    "I1 = €27 Million \n",
    "\n",
    " \n",
    "I2 = €19 Million \n",
    "\n",
    " \n",
    "T1 = 5Years \n",
    "\n",
    " \n",
    "T2 = 1Year \n",
    "\n",
    " \n",
    "sigma ranges from 23 to 57% \n",
    "\n",
    " \n",
    "r= 2.4% \n",
    "\n",
    " \n",
    "lambda = 7.6% \n",
    "\n",
    "\n",
    "Valor opción: 33.45  Million"
   ]
  },
  {
   "cell_type": "markdown",
   "metadata": {},
   "source": [
    "<hr style=\"border:0.02in solid gray\"> </hr>"
   ]
  },
  {
   "cell_type": "markdown",
   "metadata": {},
   "source": [
    "# <font color= #6B6B6B> 2. Install/Load Packages and Depedencies </font>\n"
   ]
  },
  {
   "cell_type": "code",
   "execution_count": 1,
   "metadata": {},
   "outputs": [],
   "source": [
    "import numpy as np\n",
    "import scipy.stats as si\n",
    "from scipy.stats import multivariate_normal as mvn\n",
    "from scipy.optimize import minimize\n",
    "import matplotlib.pyplot as plt\n",
    "import pandas as pd"
   ]
  },
  {
   "cell_type": "markdown",
   "metadata": {},
   "source": [
    "<hr style=\"border:0.02in solid gray\"> </hr>"
   ]
  },
  {
   "cell_type": "markdown",
   "metadata": {},
   "source": [
    "# <font color= #6B6B6B> 3. Data Description </font>"
   ]
  },
  {
   "cell_type": "code",
   "execution_count": 2,
   "metadata": {},
   "outputs": [],
   "source": [
    "T1 = 5\n",
    "T2 = 1\n",
    "r = 0.024\n",
    "q = 0\n",
    "sigma = 0.23\n",
    "S = 67\n",
    "X1 = 27\n",
    "X2 = 19\n",
    "tau = T2-T1\n",
    "l = 0.076"
   ]
  },
  {
   "cell_type": "markdown",
   "metadata": {},
   "source": [
    "<hr style=\"border:0.02in solid gray\"> </hr>"
   ]
  },
  {
   "cell_type": "markdown",
   "metadata": {},
   "source": [
    "# <font color= #6B6B6B> 4. Functions </font>"
   ]
  },
  {
   "cell_type": "code",
   "execution_count": null,
   "metadata": {},
   "outputs": [],
   "source": [
    "def Call(S,K,T,r,l, sigma):\n",
    "    d1 = (np.log(S/K) + (r+l + 0.5 * sigma ** 2) * T)/ (sigma * np.sqrt(T))\n",
    "    #d2 = (np.log(S/K) + (r+l - 0.5 * sigma ** 2) * T)/ (sigma * np.sqrt(T))\n",
    "    d2 = d1-sigma*np.sqrt(T)\n",
    "    Call = np.exp(-l*T)*(S*np.exp(l*T) * si.norm.cdf(d1,0.0,1.0) - K * np.exp(-r * T) * \n",
    "                         si.norm.cdf(d2,0.0,1.0))\n",
    "    return Call\n",
    "\n",
    "\n",
    "def Vopt(S,K,t,r,l,sigma):\n",
    "    \"\"\"\n",
    "    Función Vopt\n",
    "    Cálculo del Valor a partir del cuál se vuelve rentable trabajar en la siguiente etapa\n",
    "    del proyecto. (Sección en construcción)\n",
    "    Minimiza un Call cuyo valor de ejercicio es el valor definido para la siguiente etapa.\n",
    "    \"\"\"\n",
    "    tau = t[1]-t[0]\n",
    "    bounds = [[0, None]]\n",
    "    apply_constraint1 = lambda S: Call(S, K[0], tau, r,l, sigma) - K[1] # Tiene que ser igual a la X siguiente\n",
    "    my_constraints = ({'type': 'eq','fun': apply_constraint1})\n",
    "    a = minimize(Call, S, bounds=bounds, constraints=my_constraints, method='SLSQP', args=(K[0], tau,\n",
    "                                                                                           r,l, sigma))\n",
    "    return a.x[0] #precio justo de la opcion   \n",
    "# Restricción para 2 fases: Restricción pasada    \n",
    "    \n",
    "def hk(V,Vopt,r,l,sigma,T):\n",
    "    \"\"\"\n",
    "    Función hk\n",
    "    Esta función obtiene el valor de h para opciones compuestas. Equivalente al cálculo de\n",
    "    D1 en Black-Scholes.\n",
    "    \"\"\"\n",
    "    return (np.log(V/Vopt) + (r+l + 0.5 * sigma ** 2) * T)/ (sigma * np.sqrt(T))\n",
    "\n",
    "def lk(h,sigma,T):\n",
    "    \"\"\"\n",
    "    Función lk\n",
    "    Obtiene el valor de l a partir del valor calculado previamente de h. Equivalente al cálculo\n",
    "    de D2 en Black-Scholes.\n",
    "    \"\"\"\n",
    "    return h-sigma*np.sqrt(T)\n",
    "def corrMatrix(T):\n",
    "    \"\"\"\n",
    "    Función corrMatrix\n",
    "    Esta función obtiene la matriz de correlación simétrica para N tiempos \n",
    "    Los valores de correlación son la raíz cuadrada del cociente de los tiempos.\n",
    "    \"\"\"\n",
    "    cov = np.ones((len(T),len(T)))\n",
    "    for i in range(len(T)):\n",
    "        for j in range(len(T)):\n",
    "            if i<=j:\n",
    "                cov[j,i] = np.sqrt(T[i]/T[j])\n",
    "            else:\n",
    "                cov[j,i] = np.sqrt(T[j]/T[i])\n",
    "    return cov\n",
    "\n",
    "def NcompoundOption(S,K,tiempo,r,l,sigma):\n",
    "    \"\"\"\n",
    "    Función NcompoundOption\n",
    "    Generalización del modelo de N-anidadas opciones compuestas.\n",
    "    \"\"\"\n",
    "    N = len(tiempo) \n",
    "    suma = np.zeros(N) \n",
    "    hs = np.zeros(N)\n",
    "    ls = np.zeros(N)\n",
    "    Vo = np.zeros(N)\n",
    "    ehepaar = np.array(K[:2]) # TIene que agarrar slice de los K's recibidos\n",
    "    Vo[0] = Vopt(S,ehepaar,tiempo,r,l,sigma)\n",
    "    # Primer ciclo, cálculo de ls y hs\n",
    "    for j in range(len(tiempo)):\n",
    "        if j == len(tiempo)-1: #En el tiempo final, el valor óptimo de ejercicio es igual a I2\n",
    "            Vo[j] = K[j]\n",
    "            hs[j] = hk(S,Vo[j],r,l,sigma,tiempo[j])\n",
    "            ls[j] = lk(hs[j],sigma,tiempo[j])\n",
    "        else:\n",
    "            Vo[j] = Vopt(S,ehepaar,tiempo,r,l,sigma)\n",
    "             #Tiene que agarrar Slice de Ehepaar\n",
    "            hs[j] = hk(S,Vo[j],r,l,sigma,tiempo[j])\n",
    "            ls[j] = lk(hs[j],sigma,tiempo[j])\n",
    "            ehepaar = np.array([Vo[j],K[j]])\n",
    "    # Segundo ciclo, distribuciones y suma\n",
    "    for j in range(len(tiempo)):\n",
    "        dist = mvn(mean=np.zeros(N+1-(j+1)),cov=corrMatrix(tiempo[0:N+1-(j+1)]))\n",
    "\n",
    "        if N+1-(j+1) == 1:\n",
    "            suma[j] = K[j]*np.exp(-(r+l)*tiempo[j])*dist.cdf(ls[j-1])\n",
    "        else:\n",
    "            #print(ls[j:N+1-(j)])\n",
    "            suma[j] = K[j]*np.exp(-(r+l)*tiempo[j])*dist.cdf(ls[j:])\n",
    "    dist = mvn(mean=np.zeros(N),cov=corrMatrix(tiempo))\n",
    "    #print(S*dist.cdf(hs),-suma)\n",
    "    return S*dist.cdf(hs)-suma.sum()\n",
    "tiempo = [T2,T1]\n",
    "ks = [X2,X1]\n",
    "\n",
    "prueba = NcompoundOption(S,ks,tiempo,r,l,sigma)\n",
    "print(prueba)"
   ]
  },
  {
   "cell_type": "markdown",
   "metadata": {},
   "source": [
    "<hr style=\"border:0.02in solid gray\"> </hr>"
   ]
  },
  {
   "cell_type": "markdown",
   "metadata": {},
   "source": [
    "# <font color= #6B6B6B> 5. Process </font>"
   ]
  },
  {
   "cell_type": "code",
   "execution_count": 4,
   "metadata": {},
   "outputs": [
    {
     "data": {
      "image/png": "[encoded data removed]",
      "text/plain": [
       "<Figure size 432x288 with 1 Axes>"
      ]
     },
     "metadata": {
      "needs_background": "light"
     },
     "output_type": "display_data"
    }
   ],
   "source": [
    "###  Observación de la sensibilidad del modelo\n",
    "S = np.linspace(20,100)\n",
    "prueba = []\n",
    "pruebalambda = []\n",
    "l = 0.076\n",
    "for s in S:\n",
    "    prueba.append(NcompoundOption(s,ks,tiempo,r,0,sigma))\n",
    "    pruebalambda.append(NcompoundOption(s,ks,tiempo,r,l,sigma))\n",
    "\n",
    "plt.xticks(np.arange(0, 100+1, 20))\n",
    "plt.yticks(np.arange(0, 60+1, 10))\n",
    "plt.plot(S,prueba)\n",
    "plt.plot(S,pruebalambda,linestyle=\"dashed\");\n",
    "plt.grid()\n"
   ]
  },
  {
   "cell_type": "code",
   "execution_count": 5,
   "metadata": {},
   "outputs": [],
   "source": [
    "S = 67\n",
    "l = [0.076,0.1]\n",
    "sigma = np.linspace(0.2,1)\n",
    "volSensl0 = []\n",
    "volSensl1 = []\n",
    "volSensl2 = []\n",
    "for s in sigma:\n",
    "    volSensl0.append(NcompoundOption(S,ks,tiempo,r,0,s))\n",
    "    volSensl1.append(NcompoundOption(S,ks,tiempo,r,l[0],s))\n",
    "    volSensl2.append(NcompoundOption(S,ks,tiempo,r,l[1],s))"
   ]
  },
  {
   "cell_type": "code",
   "execution_count": 6,
   "metadata": {},
   "outputs": [
    {
     "data": {
      "image/png": "[encoded data removed]",
      "text/plain": [
       "<Figure size 432x288 with 1 Axes>"
      ]
     },
     "metadata": {
      "needs_background": "light"
     },
     "output_type": "display_data"
    }
   ],
   "source": [
    "plt.xticks(np.arange(0, 1.1,0.2))\n",
    "plt.yticks(np.arange(25, 50, 5))\n",
    "plt.plot(sigma,volSensl0)\n",
    "plt.plot(sigma,volSensl1,linestyle=\"-.\")\n",
    "plt.plot(sigma,volSensl2,linestyle=\"dashed\");\n",
    "plt.grid()"
   ]
  },
  {
   "cell_type": "code",
   "execution_count": 7,
   "metadata": {},
   "outputs": [],
   "source": [
    "S = 67\n",
    "ks = [[19,14],[19,27],[19,54]]\n",
    "sigma = 0.23\n",
    "l = np.linspace(0,1)\n",
    "LSensl0 = []\n",
    "LSensl1 = []\n",
    "LSensl2 = []\n",
    "for la in l:\n",
    "    LSensl0.append(NcompoundOption(S,ks[0],tiempo,r,la,sigma))\n",
    "    LSensl1.append(NcompoundOption(S,ks[1],tiempo,r,la,sigma))\n",
    "    LSensl2.append(NcompoundOption(S,ks[2],tiempo,r,la,sigma))"
   ]
  },
  {
   "cell_type": "code",
   "execution_count": 8,
   "metadata": {},
   "outputs": [
    {
     "data": {
      "image/png": "[encoded data removed]",
      "text/plain": [
       "<Figure size 432x288 with 1 Axes>"
      ]
     },
     "metadata": {
      "needs_background": "light"
     },
     "output_type": "display_data"
    }
   ],
   "source": [
    "plt.xticks(np.arange(0, 1.1,0.2))\n",
    "plt.yticks(np.arange(0, 81, 10))\n",
    "plt.plot(l,LSensl0)\n",
    "plt.plot(l,LSensl1,linestyle=\"-.\")\n",
    "plt.plot(l,LSensl2,linestyle=\"dashed\");\n",
    "plt.grid()"
   ]
  },
  {
   "cell_type": "code",
   "execution_count": 9,
   "metadata": {},
   "outputs": [],
   "source": [
    "sigdf = [0.23, 0.48, 0.57]\n",
    "Vodf = [67, 75, 90, 100]\n",
    "l = [0, 0.076, 0.1]\n",
    "ks = [19,27]\n",
    "l0 = np.zeros((4,3))\n",
    "l007 = np.zeros((4,3))\n",
    "l01 = np.zeros((4,3))\n",
    "# i filas j columnas"
   ]
  },
  {
   "cell_type": "code",
   "execution_count": 10,
   "metadata": {},
   "outputs": [],
   "source": [
    "for i in range(4):\n",
    "    for j in range(3):\n",
    "        l0[i,j] = NcompoundOption(Vodf[i],ks,tiempo,r,l[0],sigdf[j])\n",
    "        l007[i,j] = NcompoundOption(Vodf[i],ks,tiempo,r,l[1],sigdf[j])\n",
    "        l01[i,j] = NcompoundOption(Vodf[i],ks,tiempo,r,l[2],sigdf[j])"
   ]
  },
  {
   "cell_type": "code",
   "execution_count": 11,
   "metadata": {},
   "outputs": [
    {
     "name": "stdout",
     "output_type": "stream",
     "text": [
      "33.45110933696857 [39.71398782 27.        ]\n"
     ]
    }
   ],
   "source": [
    "# Escenario Propuesto \n",
    "# 4 etapas, función que regresa los valores óptimos del proyecto para avanzar a la siguiente fase\n",
    "def NcompoundOption(S,K,tiempo,r,l,sigma):\n",
    "    \"\"\"\n",
    "    Función NcompoundOption\n",
    "    Generalización del modelo de N-anidadas opciones compuestas.\n",
    "    \"\"\"\n",
    "    N = len(tiempo) \n",
    "    suma = np.zeros(N) \n",
    "    hs = np.zeros(N)\n",
    "    ls = np.zeros(N)\n",
    "    Vo = np.zeros(N)\n",
    "    ehepaar = np.array(K[:2]) # TIene que agarrar slice de los K's recibidos\n",
    "    Vo[0] = Vopt(S,ehepaar,tiempo,r,l,sigma)\n",
    "    # Primer ciclo, cálculo de ls y hs\n",
    "    for j in range(len(tiempo)):\n",
    "        if j == len(tiempo)-1: #En el tiempo final, el valor óptimo de ejercicio es igual a I2\n",
    "            Vo[j] = K[j]\n",
    "            hs[j] = hk(S,Vo[j],r,l,sigma,tiempo[j])\n",
    "            ls[j] = lk(hs[j],sigma,tiempo[j])\n",
    "        else:\n",
    "            Vo[j] = Vopt(S,ehepaar,tiempo,r,l,sigma)\n",
    "             #Tiene que agarrar Slice de Ehepaar\n",
    "            hs[j] = hk(S,Vo[j],r,l,sigma,tiempo[j])\n",
    "            ls[j] = lk(hs[j],sigma,tiempo[j])\n",
    "            ehepaar = np.array([Vo[j],K[j]])\n",
    "    # Segundo ciclo, distribuciones y suma\n",
    "    for j in range(len(tiempo)):\n",
    "        dist = mvn(mean=np.zeros(N+1-(j+1)),cov=corrMatrix(tiempo[0:N+1-(j+1)]))\n",
    "\n",
    "        if N+1-(j+1) == 1:\n",
    "            suma[j] = K[j]*np.exp(-(r+l)*tiempo[j])*dist.cdf(ls[j-1])\n",
    "        else:\n",
    "            #print(ls[j:N+1-(j)])\n",
    "            suma[j] = K[j]*np.exp(-(r+l)*tiempo[j])*dist.cdf(ls[j:])\n",
    "    dist = mvn(mean=np.zeros(N),cov=corrMatrix(tiempo))\n",
    "    #print(S*dist.cdf(hs),-suma)\n",
    "    return S*dist.cdf(hs)-suma.sum(), Vo\n",
    "\n",
    "\n",
    "T1 = 5\n",
    "T2 = 3\n",
    "T3 = 2\n",
    "T4 = 1\n",
    "r = 0.024\n",
    "q = 0\n",
    "sigma = 0.23 \n",
    "S = 67\n",
    "X1 = 27\n",
    "X2 = 19\n",
    "X3 = 17\n",
    "X4 = 15\n",
    "l = 0.076\n",
    "\n",
    "etapasTiempo = [[1,5],[1,3,5],[1,2,3,5]]\n",
    "etapasK = [[X2,X1],[X3,X2,X1],[X4,X3,X2,X1]]\n",
    "\n",
    "propuesta, optimos = NcompoundOption(S,ks,tiempo,r,l,sigma)\n",
    "print(propuesta, optimos)"
   ]
  },
  {
   "cell_type": "code",
   "execution_count": 12,
   "metadata": {},
   "outputs": [
    {
     "data": {
      "image/png": "[encoded data removed]",
      "text/plain": [
       "<Figure size 432x288 with 1 Axes>"
      ]
     },
     "metadata": {
      "needs_background": "light"
     },
     "output_type": "display_data"
    }
   ],
   "source": [
    "x = np.arange(2,5)\n",
    "y = np.zeros(3)\n",
    "for i in range(3):\n",
    "    y[i],_ = NcompoundOption(S,etapasK[i],etapasTiempo[i],r,l,sigma)\n",
    "plt.xticks(np.arange(0, 5,1))\n",
    "plt.yticks(np.arange(0, 35+1, 10))\n",
    "plt.plot(x,y)\n",
    "plt.grid()\n",
    "# Valor del contrato dadas N etapas"
   ]
  },
  {
   "cell_type": "markdown",
   "metadata": {},
   "source": [
    "<hr style=\"border:0.02in solid gray\"> </hr>"
   ]
  },
  {
   "cell_type": "markdown",
   "metadata": {},
   "source": [
    "# <font color= #6B6B6B> 6. Conclusión </font>"
   ]
  },
  {
   "cell_type": "markdown",
   "metadata": {},
   "source": [
    "Al desarrollar todo este proyecto, aplicando los modelos anteriores y la función que nos ayuda al cálculo de una serie de \"n\" calls de una call option, podemos ver que el proyecto farmacéutico puede ser modelado como una serie de subproyectos, donde la inversión en cada paso es resultado del éxito o fracaso del paso anterior. \n",
    "\n",
    "Encontramos dificultades para encontrar la forma de calcular el 3er y 4to paso del proyecto de manera manual, y nos resultó más sencillo y a la vez más útil el poder trabajar dejando nuestra función lista para \"n\" pasos, lo cual nos deja automatizado el proceso del cálculo en algún otro proyectoque requiera mayor cantidad de pasos.\n",
    "\n",
    "Además, estábamos teniendo complicaciones a la hora de intentar replicar las escalas que se presentan en el documento del proyecto, ya que en nuestro proceso los gráficos de los resultados estaban ligeramente desfasados respecto a los originales."
   ]
  },
  {
   "cell_type": "markdown",
   "metadata": {},
   "source": [
    "<hr style=\"border:0.02in solid gray\"> </hr>"
   ]
  },
  {
   "cell_type": "markdown",
   "metadata": {},
   "source": [
    "# <font color= #6B6B6B>  7. References </font>"
   ]
  },
  {
   "cell_type": "markdown",
   "metadata": {},
   "source": [
    "European Journal of Operational Research"
   ]
  },
  {
   "cell_type": "markdown",
   "metadata": {},
   "source": [
    "<hr style=\"border:0.02in solid gray\"> </hr>"
   ]
  },
  {
   "cell_type": "markdown",
   "metadata": {},
   "source": [
    "<hr style=\"border:0.02in solid gray\"> </hr>"
   ]
  }
 ],
 "metadata": {
  "kernelspec": {
   "display_name": "Python 3",
   "language": "python",
   "name": "python3"
  },
  "language_info": {
   "codemirror_mode": {
    "name": "ipython",
    "version": 3
   },
   "file_extension": ".py",
   "mimetype": "text/x-python",
   "name": "python",
   "nbconvert_exporter": "python",
   "pygments_lexer": "ipython3",
   "version": "3.8.5"
  }
 },
 "nbformat": 4,
 "nbformat_minor": 5
}
